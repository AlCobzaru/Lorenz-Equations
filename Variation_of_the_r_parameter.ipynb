{
  "nbformat": 4,
  "nbformat_minor": 0,
  "metadata": {
    "colab": {
      "provenance": [],
      "authorship_tag": "ABX9TyMBhWEEamyo9Py8kXkczp5j",
      "include_colab_link": true
    },
    "kernelspec": {
      "name": "python3",
      "display_name": "Python 3"
    },
    "language_info": {
      "name": "python"
    }
  },
  "cells": [
    {
      "cell_type": "markdown",
      "metadata": {
        "id": "view-in-github",
        "colab_type": "text"
      },
      "source": [
        "<a href=\"https://colab.research.google.com/github/AlCobzaru/Lorenz-Equations/blob/main/Variation_of_the_r_parameter.ipynb\" target=\"_parent\"><img src=\"https://colab.research.google.com/assets/colab-badge.svg\" alt=\"Open In Colab\"/></a>"
      ]
    },
    {
      "cell_type": "markdown",
      "source": [
        "# Variation of the r parameter"
      ],
      "metadata": {
        "id": "3AvDe4vl3ADA"
      }
    },
    {
      "cell_type": "markdown",
      "source": [
        "From now on, the letter r will be used to describe the Rayleigh number, as it is the widely used letter when studying the variation of this parameter in this system of equations.\n",
        "\n",
        "We are now aware of the three critical points of this equation. The new goal is to determine whether these points are stable, unstable or semistable."
      ],
      "metadata": {
        "id": "RsnRtxvy3LeF"
      }
    },
    {
      "cell_type": "markdown",
      "source": [
        "**Case 1: Stability at origin**\n",
        "\n",
        "For values close to the origin (equilibrium point), the linearized Lorenz equations are sufficient to analyze whether the origin is stable:\n",
        "\n",
        "$ \\dot{x} = σ(y - x) $\n",
        "\n",
        "$ \\dot{y} = xr - y $\n",
        "\n",
        "$ \\dot{z} = - \\beta z $\n",
        "\n",
        "The last equation is isolated, and when solving for z, it decreases exponentially fast. Next, by putting x and y in matrix form and finding the trace and determinant, the stability of the origin can be deduced.\n",
        "\\begin{align}\n",
        "\\begin{pmatrix}\n",
        "    \\dot{x} \\\\\n",
        "    \\dot{y} \n",
        "\\end{pmatrix}\n",
        "&\n",
        "= \\begin{pmatrix}\n",
        "    -σ & σ \\\\\n",
        "    r & -1\n",
        "\\end{pmatrix}\n",
        "\\begin{pmatrix}\n",
        "    x \\\\\n",
        "    y\n",
        "\\end{pmatrix}\n",
        "\\end{align}\n",
        "The trace of the matrix τ = -(σ+1), is always smaller than 0 (canonical value of sigma is positive). The determinant is Δ = σ(1 - r). Calculating the value of\n",
        "\n",
        "$ τ^2 - 4Δ = (σ+1)^2 -4σ(1 - r) =$\n",
        "\n",
        "$ σ^2 + 2σ +1 -4σ +4σr =$\n",
        "\n",
        "$ (σ-1)^2 +4σr =$\n",
        "\n",
        "Because σ > 1, the result is strictly positive, and thus the origin point is table."
      ],
      "metadata": {
        "id": "jmeoiG_KnY9-"
      }
    },
    {
      "cell_type": "markdown",
      "source": [
        "**Case 2: Stability for r < 1**\n",
        "In this case, we can use the Liapunov function to show that x(t), y(t) and z(t) all approach the origin as $\\lim_{t\\to\\infty} $ The following Liapunov function is for the volume of centric ellipsoids:\n",
        "\n",
        "$ V(x, y, z) = \\frac{1}{σ}x^2 + y^2 + z^2 $\n",
        "\n",
        "If the derivative of the function is smaller than 0, the volume of the ellipsoid is decreasing. If $ r < 1 $ and $x,y,z \\neq 0 $, then the system is stable at the origin for r < 1\n",
        "\n",
        "$ \\dot{V} = \\frac{2}{σ}x\\dot{x} + 2y\\dot{y} + 2z\\dot{z}$\n",
        "\n",
        "$ \\frac{\\dot{V}}{2} = \\frac{1}{σ}x\\dot{x} + y\\dot{y} + z\\dot{z}$\n",
        "\n",
        "Plugging in the Lorenz equations:\n",
        "\n",
        "$ (yx-x^2) +(xry - y^2 - xyz) +(zxy- βz^2) =$\n",
        "\n",
        "$ yx +xry- x^2 - y^2 - βz^2 =$\n",
        "\n",
        "$ xy(r+1)- x^2 - y^2 - βz^2 =$\n",
        "\n",
        "$ -(x^2 - x(y(r+1)) + (\\frac{y(r+1)}{2})^2) -(\\frac{y(r+1)}{2})^2- y^2 - βz^2 =$\n",
        "\n",
        "$ -(x - (\\frac{y(r+1)}{2}))^2 -(1-(\\frac{(r+1)}{2})^2)y^2 - βz^2 $\n",
        "\n",
        "The first and third term are strictly negative ($β = \\frac{8}{3}$), and the second term is also strictly negative when given a closer look.\n",
        "\n",
        "$ (\\frac{(r+1)}{2})^2) < 1 $ for $r <1$\n",
        "\n",
        "$(1-(\\frac{(r+1)}{2})^2) < 1$\n",
        "\n",
        "So the value of the second term is strictly negative as well, meanin $ \\dot{V}$ is strictly negative or equal to 0. However, for $ \\dot{V}$ to be equal to 0, when looking at the three equations, x, y and z should all be equal to 0, which does not respect the condition we set. Thus, for $r<1$, the origin is a stable point.\n",
        "\n"
      ],
      "metadata": {
        "id": "S0i8ub4109qW"
      }
    },
    {
      "cell_type": "markdown",
      "source": [
        "**Case 3: r > 1**\n",
        "\n",
        "In this case, two different outcomes can occur:\n",
        "\n",
        "1)For $ 1<r<24.74$ ,the system will first exhbitit transient chaos that lasts longer the closer to the upper limit and eventually settle on a stable limit cycle.\n",
        "\n",
        "2)For $r>24.74$, the system will settle on a strange attractor, meaning that chaotic behavior will be observed."
      ],
      "metadata": {
        "id": "A4Jgv5Wb8JQT"
      }
    },
    {
      "cell_type": "markdown",
      "source": [
        "![image.png](data:image/png;base64,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)\n",
        "\n",
        "The following plot shows the bifurcation diagram for the Lorenz system. For $r<1$, the only stable point is at the origin. The moment $r>1$, a pitchfork bifurcation occurs, and the origin becomes an unstable solution, while the two new points become stable. They have unstbale limit cycles as a solution. When $r>24.74, None of the critical points are stable, and the system starts exhibiting chaotic behavior. The following jupyter notebooks contain code which solve and model the Lorenz system with different values of r, to reflect its impact on the system itself."
      ],
      "metadata": {
        "id": "g3MFfxM8F8kE"
      }
    }
  ]
}