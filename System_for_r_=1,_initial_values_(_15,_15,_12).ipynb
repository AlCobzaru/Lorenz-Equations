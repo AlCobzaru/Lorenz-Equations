{
  "nbformat": 4,
  "nbformat_minor": 0,
  "metadata": {
    "colab": {
      "provenance": [],
      "include_colab_link": true
    },
    "kernelspec": {
      "name": "python3",
      "display_name": "Python 3"
    },
    "language_info": {
      "name": "python"
    },
    "accelerator": "GPU",
    "gpuClass": "standard"
  },
  "cells": [
    {
      "cell_type": "markdown",
      "metadata": {
        "id": "view-in-github",
        "colab_type": "text"
      },
      "source": [
        "<a href=\"https://colab.research.google.com/github/AlCobzaru/Lorenz-Equations/blob/main/System_for_r_%3D1%2C_initial_values_(_15%2C_15%2C_12).ipynb\" target=\"_parent\"><img src=\"https://colab.research.google.com/assets/colab-badge.svg\" alt=\"Open In Colab\"/></a>"
      ]
    },
    {
      "cell_type": "code",
      "source": [
        "! pip install diffrax"
      ],
      "metadata": {
        "colab": {
          "base_uri": "https://localhost:8080/"
        },
        "id": "OePJ9hV0dr4v",
        "outputId": "304871a1-9e9a-4446-fb7e-b5e5a133999e"
      },
      "execution_count": null,
      "outputs": [
        {
          "output_type": "stream",
          "name": "stdout",
          "text": [
            "Looking in indexes: https://pypi.org/simple, https://us-python.pkg.dev/colab-wheels/public/simple/\n",
            "Collecting diffrax\n",
            "  Downloading diffrax-0.3.1-py3-none-any.whl (140 kB)\n",
            "\u001b[2K     \u001b[90m━━━━━━━━━━━━━━━━━━━━━━━━━━━━━━━━━━━━━━━\u001b[0m \u001b[32m140.4/140.4 KB\u001b[0m \u001b[31m4.1 MB/s\u001b[0m eta \u001b[36m0:00:00\u001b[0m\n",
            "\u001b[?25hRequirement already satisfied: jax>=0.4.3 in /usr/local/lib/python3.9/dist-packages (from diffrax) (0.4.6)\n",
            "Collecting equinox>=0.10.0\n",
            "  Downloading equinox-0.10.1-py3-none-any.whl (108 kB)\n",
            "\u001b[2K     \u001b[90m━━━━━━━━━━━━━━━━━━━━━━━━━━━━━━━━━━━━━━━\u001b[0m \u001b[32m108.7/108.7 KB\u001b[0m \u001b[31m4.1 MB/s\u001b[0m eta \u001b[36m0:00:00\u001b[0m\n",
            "\u001b[?25hCollecting jaxtyping>=0.2.12\n",
            "  Downloading jaxtyping-0.2.14-py3-none-any.whl (20 kB)\n",
            "Requirement already satisfied: opt-einsum in /usr/local/lib/python3.9/dist-packages (from jax>=0.4.3->diffrax) (3.3.0)\n",
            "Requirement already satisfied: scipy>=1.5 in /usr/local/lib/python3.9/dist-packages (from jax>=0.4.3->diffrax) (1.10.1)\n",
            "Requirement already satisfied: numpy>=1.20 in /usr/local/lib/python3.9/dist-packages (from jax>=0.4.3->diffrax) (1.22.4)\n",
            "Requirement already satisfied: typing-extensions>=3.7.4.1 in /usr/local/lib/python3.9/dist-packages (from jaxtyping>=0.2.12->equinox>=0.10.0->diffrax) (4.5.0)\n",
            "Collecting typeguard>=2.13.3\n",
            "  Downloading typeguard-3.0.1-py3-none-any.whl (30 kB)\n",
            "Requirement already satisfied: importlib-metadata>=3.6 in /usr/local/lib/python3.9/dist-packages (from typeguard>=2.13.3->jaxtyping>=0.2.12->equinox>=0.10.0->diffrax) (6.0.0)\n",
            "Requirement already satisfied: zipp>=0.5 in /usr/local/lib/python3.9/dist-packages (from importlib-metadata>=3.6->typeguard>=2.13.3->jaxtyping>=0.2.12->equinox>=0.10.0->diffrax) (3.15.0)\n",
            "Installing collected packages: typeguard, jaxtyping, equinox, diffrax\n",
            "Successfully installed diffrax-0.3.1 equinox-0.10.1 jaxtyping-0.2.14 typeguard-3.0.1\n"
          ]
        }
      ]
    },
    {
      "cell_type": "code",
      "execution_count": null,
      "metadata": {
        "id": "gxzNu5iIdfa6"
      },
      "outputs": [],
      "source": [
        "import time\n",
        "from diffrax import diffeqsolve, ODETerm, Kvaerno5, SaveAt, PIDController\n",
        "import equinox as eqx\n",
        "import jax\n",
        "import jax.numpy as jnp\n",
        "import matplotlib.pyplot as plt"
      ]
    },
    {
      "cell_type": "code",
      "source": [
        "jax.config.update(\"jax_enable_x64\", True)"
      ],
      "metadata": {
        "id": "IFNgYcAUeInu"
      },
      "execution_count": null,
      "outputs": []
    },
    {
      "cell_type": "code",
      "source": [
        "class Lorenz(eqx.Module):\n",
        "    s: float\n",
        "    b: float\n",
        "    r: float\n",
        "\n",
        "    def __call__(self, t, y, args):\n",
        "        f0 = self.s * (y[1] - y[0])\n",
        "        f1 = self.r * y[0] - y[1] - y[0] * y[2]\n",
        "        f2 = y[0] * y[1] - self.b * y[2]\n",
        "        return jnp.stack([f0, f1, f2])"
      ],
      "metadata": {
        "id": "lf1iCAlLeT-8"
      },
      "execution_count": null,
      "outputs": []
    },
    {
      "cell_type": "code",
      "source": [
        "t0 = 0.0\n",
        "t1 = 50.0\n",
        "y0 = jnp.array([3.0, 2.0, 3.0])"
      ],
      "metadata": {
        "id": "5Nku7lWrr6mx"
      },
      "execution_count": null,
      "outputs": []
    },
    {
      "cell_type": "code",
      "source": [
        "@jax.jit\n",
        "def main(s, b, r):\n",
        "    lorenz = Lorenz(s, b, r)\n",
        "    terms = ODETerm(lorenz)\n",
        "    dt0 = 0.000001\n",
        "    solver = Kvaerno5()\n",
        "    saveat = SaveAt(ts=jnp.linspace(t0, t1, 100000))\n",
        "    stepsize_controller = PIDController(rtol=1e-8, atol=1e-8)\n",
        "    sol = diffeqsolve(\n",
        "        terms,\n",
        "        solver,\n",
        "        t0,\n",
        "        t1,\n",
        "        dt0,\n",
        "        y0,\n",
        "        max_steps=100000,\n",
        "        saveat=saveat,\n",
        "        stepsize_controller=stepsize_controller,\n",
        "    )\n",
        "    return sol"
      ],
      "metadata": {
        "id": "Sscl2jFmlDbt"
      },
      "execution_count": null,
      "outputs": []
    },
    {
      "cell_type": "markdown",
      "source": [
        "Do and time one iteration to JIT compile everything. Then time the second iteration."
      ],
      "metadata": {
        "id": "iYfCe9Ixmr7I"
      }
    },
    {
      "cell_type": "code",
      "source": [
        "comp_start = time.time()\n",
        "main(10.0, 8.0/3.0, 0.5)\n",
        "comp_end = time.time()\n",
        "\n",
        "start = time.time()\n",
        "sol = main(10.0, 8.0/3.0, 0.5)\n",
        "end = time.time()\n",
        "\n",
        "print(f\"Compiling and solving took {comp_end - comp_start} seconds.\")\n",
        "print(f\"Solving while compiled took {sol.stats['num_steps']} steps in {end - start} seconds.\")"
      ],
      "metadata": {
        "colab": {
          "base_uri": "https://localhost:8080/"
        },
        "id": "qHgVDz0VmxcG",
        "outputId": "531a0324-8455-4aa4-9a3e-82ad9523336f"
      },
      "execution_count": null,
      "outputs": [
        {
          "output_type": "stream",
          "name": "stdout",
          "text": [
            "Compiling and solving took 18.407757997512817 seconds.\n",
            "Solving while compiled took 90 steps in 4.2925989627838135 seconds.\n"
          ]
        }
      ]
    },
    {
      "cell_type": "code",
      "source": [
        "figx = plt.figure()\n",
        "axi = figx.add_subplot(111, xlim=(0, t1), \n",
        "                ylim=(jnp.min(sol.ys[:, 0]), jnp.max(sol.ys[:,0])))\n",
        "plt.plot(sol.ts, sol.ys[:, 0], 'b')\n",
        "plt.title('x - component')\n",
        "plt.show()"
      ],
      "metadata": {
        "colab": {
          "base_uri": "https://localhost:8080/",
          "height": 281
        },
        "id": "k6z1Ha-znf_N",
        "outputId": "546af848-90d2-45ea-ef56-a1f59144ae2c"
      },
      "execution_count": null,
      "outputs": [
        {
          "output_type": "display_data",
          "data": {
            "text/plain": [
              "<Figure size 432x288 with 1 Axes>"
            ],
            "image/png": "[encoded data removed]"
          },
          "metadata": {
            "needs_background": "light"
          }
        }
      ]
    },
    {
      "cell_type": "code",
      "source": [
        "figy = plt.figure()\n",
        "axi = figy.add_subplot(111, xlim=(0, t1), \n",
        "                ylim=(jnp.min(sol.ys[:, 1]), jnp.max(sol.ys[:, 1])))\n",
        "plt.plot(sol.ts, sol.ys[:, 1], 'b')\n",
        "plt.title('y - component')\n",
        "plt.show()"
      ],
      "metadata": {
        "colab": {
          "base_uri": "https://localhost:8080/",
          "height": 281
        },
        "id": "Xl5KkELksV7m",
        "outputId": "aff0050b-94ad-4028-ee25-753849d509cc"
      },
      "execution_count": null,
      "outputs": [
        {
          "output_type": "display_data",
          "data": {
            "text/plain": [
              "<Figure size 432x288 with 1 Axes>"
            ],
            "image/png": "[encoded data removed]"
          },
          "metadata": {
            "needs_background": "light"
          }
        }
      ]
    },
    {
      "cell_type": "code",
      "source": [
        "figz = plt.figure()\n",
        "axi = figz.add_subplot(111, xlim=(0, t1), \n",
        "                ylim=(jnp.min(sol.ys[:, 2]), jnp.max(sol.ys[:,2])))\n",
        "plt.plot(sol.ts, sol.ys[:, 2], 'b')\n",
        "plt.title('z - component')\n",
        "plt.show()"
      ],
      "metadata": {
        "colab": {
          "base_uri": "https://localhost:8080/",
          "height": 281
        },
        "id": "ftlauwYTxJu2",
        "outputId": "60d664c4-bc10-4f43-f370-87a6c4bd7c22"
      },
      "execution_count": null,
      "outputs": [
        {
          "output_type": "display_data",
          "data": {
            "text/plain": [
              "<Figure size 432x288 with 1 Axes>"
            ],
            "image/png": "[encoded data removed]"
          },
          "metadata": {
            "needs_background": "light"
          }
        }
      ]
    },
    {
      "cell_type": "code",
      "source": [
        "figxz = plt.figure()\n",
        "axi = figxz.add_subplot(111,\n",
        "                xlim=(jnp.min(sol.ys[:, 0]), jnp.max(sol.ys[:,0])),\n",
        "                ylim=(jnp.min(sol.ys[:, 2]), jnp.max(sol.ys[:,2])))\n",
        "plt.plot(sol.ys[:, 0], sol.ys[:, 2], 'b')\n",
        "plt.title('x - component')\n",
        "plt.show()"
      ],
      "metadata": {
        "colab": {
          "base_uri": "https://localhost:8080/",
          "height": 281
        },
        "id": "acbgEbYvxeKL",
        "outputId": "7a325248-77e4-4159-ffde-3b0f2ded71ff"
      },
      "execution_count": null,
      "outputs": [
        {
          "output_type": "display_data",
          "data": {
            "text/plain": [
              "<Figure size 432x288 with 1 Axes>"
            ],
            "image/png": "[encoded data removed]"
          },
          "metadata": {
            "needs_background": "light"
          }
        }
      ]
    },
    {
      "cell_type": "markdown",
      "source": [
        "Because the value of r was set to 0.5, which is smaller than 1, the system was rapidly attracted to the origin. The initial values were of x(0) = 3, y(0) = 2, z(0) = 3, and the three plots of the functions as a function of t quickly converge toward 0. The plot of z(t) as a function of x(t) shows that the system is attracted to the origin."
      ],
      "metadata": {
        "id": "vKXgH-2klaSN"
      }
    }
  ]
}