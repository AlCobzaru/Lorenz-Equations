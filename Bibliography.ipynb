{
  "nbformat": 4,
  "nbformat_minor": 0,
  "metadata": {
    "colab": {
      "provenance": [],
      "authorship_tag": "ABX9TyPBLStvSRMK7YYGVoQ8Kb7m",
      "include_colab_link": true
    },
    "kernelspec": {
      "name": "python3",
      "display_name": "Python 3"
    },
    "language_info": {
      "name": "python"
    }
  },
  "cells": [
    {
      "cell_type": "markdown",
      "metadata": {
        "id": "view-in-github",
        "colab_type": "text"
      },
      "source": [
        "<a href=\"https://colab.research.google.com/github/AlCobzaru/Lorenz-Equations/blob/main/Bibliography.ipynb\" target=\"_parent\"><img src=\"https://colab.research.google.com/assets/colab-badge.svg\" alt=\"Open In Colab\"/></a>"
      ]
    },
    {
      "cell_type": "markdown",
      "source": [
        "# Bibliography"
      ],
      "metadata": {
        "id": "lUc175fKqm0r"
      }
    },
    {
      "cell_type": "markdown",
      "source": [
        "[1] Wikipedia. *Edward Norton Lorenz.* url: https://en.wikipedia.org/wiki/Edward_Norton_Lorenz"
      ],
      "metadata": {
        "id": "N8KiqLk4qqbF"
      }
    },
    {
      "cell_type": "markdown",
      "source": [
        "[2] Wikipedia. *Hénon Map*. url: https://en.wikipedia.org/wiki/H%C3%A9non_map"
      ],
      "metadata": {
        "id": "aFeb-fZ8sNRO"
      }
    },
    {
      "cell_type": "markdown",
      "source": [],
      "metadata": {
        "id": "kTCVnh6msoxy"
      }
    }
  ]
}