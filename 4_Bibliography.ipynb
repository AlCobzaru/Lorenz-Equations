{
  "nbformat": 4,
  "nbformat_minor": 0,
  "metadata": {
    "colab": {
      "provenance": []
    },
    "kernelspec": {
      "name": "python3",
      "display_name": "Python 3"
    },
    "language_info": {
      "name": "python"
    }
  },
  "cells": [
    {
      "cell_type": "markdown",
      "source": [
        "# Bibliography"
      ],
      "metadata": {
        "id": "lUc175fKqm0r"
      }
    },
    {
      "cell_type": "markdown",
      "source": [
        "[1] Wikipedia. *Edward Norton Lorenz.* url: https://en.wikipedia.org/wiki/Edward_Norton_Lorenz"
      ],
      "metadata": {
        "id": "N8KiqLk4qqbF"
      }
    },
    {
      "cell_type": "markdown",
      "source": [
        "[2] Wikipedia. *Hénon Map*. url: https://en.wikipedia.org/wiki/H%C3%A9non_map"
      ],
      "metadata": {
        "id": "aFeb-fZ8sNRO"
      }
    },
    {
      "cell_type": "markdown",
      "source": [
        "Any mathematical derivation was done from the following book:\n",
        "\n",
        "[3] Strogatz, Steven. *Nonlinear Dynamics and Chaos: With Applications to Physics, Biology, Chemistry, and Engineering*. CRC Press, Taylor &amp; Francis Group, 2018. "
      ],
      "metadata": {
        "id": "kTCVnh6msoxy"
      }
    },
    {
      "cell_type": "markdown",
      "source": [
        "[4] ResearchGate. *Predicting Catastrophes in Nonlinear Dynamical Systems by Compressive Sensing*. url: https://www.researchgate.net/publication/51123220_Predicting_Catastrophes_in_Nonlinear_Dynamical_Systems_by_Compressive_Sensing"
      ],
      "metadata": {
        "id": "v-WIzNIEwOhR"
      }
    }
  ]
}